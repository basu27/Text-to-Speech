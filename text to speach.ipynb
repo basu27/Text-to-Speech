{
 "cells": [
  {
   "cell_type": "code",
   "execution_count": 1,
   "id": "b70d6b46",
   "metadata": {},
   "outputs": [
    {
     "name": "stdout",
     "output_type": "stream",
     "text": [
      "Collecting pyttsx3\n",
      "  Using cached pyttsx3-2.90-py3-none-any.whl (39 kB)\n",
      "Collecting pypiwin32\n",
      "  Using cached pypiwin32-223-py3-none-any.whl (1.7 kB)\n",
      "Requirement already satisfied: pywin32 in c:\\users\\basup\\anaconda3\\envs\\pythonproject\\lib\\site-packages (from pyttsx3) (302)\n",
      "Collecting comtypes\n",
      "  Downloading comtypes-1.1.13-py2.py3-none-any.whl (172 kB)\n",
      "Installing collected packages: pypiwin32, comtypes, pyttsx3\n",
      "Successfully installed comtypes-1.1.13 pypiwin32-223 pyttsx3-2.90\n"
     ]
    }
   ],
   "source": [
    "!pip install pyttsx3"
   ]
  },
  {
   "cell_type": "code",
   "execution_count": 2,
   "id": "b07980cb",
   "metadata": {},
   "outputs": [],
   "source": [
    "import pyttsx3"
   ]
  },
  {
   "cell_type": "code",
   "execution_count": 28,
   "id": "324a07ca",
   "metadata": {},
   "outputs": [],
   "source": [
    "def speak(arr):\n",
    "    speaker=pyttsx3.init()\n",
    "    speaker.setProperty('rate',125)\n",
    "    voices = speaker.getProperty('voices')\n",
    "    speaker.setProperty('voice', voices[1].id)\n",
    "    speaker.say(arr)\n",
    "    speaker.runAndWait()"
   ]
  },
  {
   "cell_type": "code",
   "execution_count": null,
   "id": "d74a105d",
   "metadata": {},
   "outputs": [],
   "source": []
  },
  {
   "cell_type": "code",
   "execution_count": null,
   "id": "2eba63c7",
   "metadata": {},
   "outputs": [],
   "source": []
  },
  {
   "cell_type": "code",
   "execution_count": 4,
   "id": "fe2e0768",
   "metadata": {},
   "outputs": [],
   "source": [
    "speak('I am very beautiful')"
   ]
  },
  {
   "cell_type": "code",
   "execution_count": null,
   "id": "dc8a6fc7",
   "metadata": {},
   "outputs": [],
   "source": []
  },
  {
   "cell_type": "code",
   "execution_count": null,
   "id": "663d8c92",
   "metadata": {},
   "outputs": [],
   "source": []
  },
  {
   "cell_type": "code",
   "execution_count": 5,
   "id": "b3ac171f",
   "metadata": {},
   "outputs": [],
   "source": [
    "import pandas as pd"
   ]
  },
  {
   "cell_type": "code",
   "execution_count": 6,
   "id": "2e2c79ed",
   "metadata": {},
   "outputs": [],
   "source": [
    "f=open('speak.txt','r')"
   ]
  },
  {
   "cell_type": "code",
   "execution_count": 7,
   "id": "e269af7f",
   "metadata": {},
   "outputs": [],
   "source": [
    "str=f.read()"
   ]
  },
  {
   "cell_type": "code",
   "execution_count": 8,
   "id": "5af4891f",
   "metadata": {},
   "outputs": [],
   "source": [
    "speak(str)"
   ]
  },
  {
   "cell_type": "code",
   "execution_count": null,
   "id": "d54f5482",
   "metadata": {},
   "outputs": [],
   "source": []
  },
  {
   "cell_type": "code",
   "execution_count": 9,
   "id": "0525c284",
   "metadata": {},
   "outputs": [],
   "source": [
    "f.close()"
   ]
  },
  {
   "cell_type": "code",
   "execution_count": 29,
   "id": "7fd0427c",
   "metadata": {},
   "outputs": [],
   "source": [
    "str=['hi priyanshu i love you']"
   ]
  },
  {
   "cell_type": "code",
   "execution_count": 30,
   "id": "ebe0671c",
   "metadata": {},
   "outputs": [],
   "source": [
    "speak(str)"
   ]
  },
  {
   "cell_type": "code",
   "execution_count": null,
   "id": "d3c8cb88",
   "metadata": {},
   "outputs": [],
   "source": []
  }
 ],
 "metadata": {
  "kernelspec": {
   "display_name": "Python 3 (ipykernel)",
   "language": "python",
   "name": "python3"
  },
  "language_info": {
   "codemirror_mode": {
    "name": "ipython",
    "version": 3
   },
   "file_extension": ".py",
   "mimetype": "text/x-python",
   "name": "python",
   "nbconvert_exporter": "python",
   "pygments_lexer": "ipython3",
   "version": "3.10.4"
  }
 },
 "nbformat": 4,
 "nbformat_minor": 5
}
